{
  "nbformat": 4,
  "nbformat_minor": 0,
  "metadata": {
    "colab": {
      "provenance": [],
      "gpuType": "T4",
      "include_colab_link": true
    },
    "kernelspec": {
      "name": "python3",
      "display_name": "Python 3"
    },
    "language_info": {
      "name": "python"
    },
    "accelerator": "GPU"
  },
  "cells": [
    {
      "cell_type": "markdown",
      "metadata": {
        "id": "view-in-github",
        "colab_type": "text"
      },
      "source": [
        "<a href=\"https://colab.research.google.com/github/MukulGarg0097/facefusion/blob/main/FaceFusion_Colab.ipynb\" target=\"_parent\"><img src=\"https://colab.research.google.com/assets/colab-badge.svg\" alt=\"Open In Colab\"/></a>"
      ]
    },
    {
      "cell_type": "code",
      "execution_count": 2,
      "metadata": {
        "id": "qMbQ-URbzB0g",
        "colab": {
          "base_uri": "https://localhost:8080/"
        },
        "outputId": "1cdd1e3d-170b-4d0f-9267-00a193289464"
      },
      "outputs": [
        {
          "output_type": "stream",
          "name": "stdout",
          "text": [
            "fatal: destination path 'facefusion' already exists and is not an empty directory.\n",
            "/content/facefusion\n",
            "Requirement already satisfied: filetype==1.2.0 in /usr/local/lib/python3.11/dist-packages (from -r requirements.txt (line 1)) (1.2.0)\n",
            "Requirement already satisfied: gradio==5.9.1 in /usr/local/lib/python3.11/dist-packages (from -r requirements.txt (line 2)) (5.9.1)\n",
            "Requirement already satisfied: gradio-rangeslider==0.0.8 in /usr/local/lib/python3.11/dist-packages (from -r requirements.txt (line 3)) (0.0.8)\n",
            "Requirement already satisfied: numpy==2.2.0 in /usr/local/lib/python3.11/dist-packages (from -r requirements.txt (line 4)) (2.2.0)\n",
            "Requirement already satisfied: onnx==1.17.0 in /usr/local/lib/python3.11/dist-packages (from -r requirements.txt (line 5)) (1.17.0)\n",
            "Requirement already satisfied: onnxruntime==1.20.1 in /usr/local/lib/python3.11/dist-packages (from -r requirements.txt (line 6)) (1.20.1)\n",
            "Requirement already satisfied: opencv-python==4.10.0.84 in /usr/local/lib/python3.11/dist-packages (from -r requirements.txt (line 7)) (4.10.0.84)\n",
            "Requirement already satisfied: psutil==6.1.1 in /usr/local/lib/python3.11/dist-packages (from -r requirements.txt (line 8)) (6.1.1)\n",
            "Requirement already satisfied: tqdm==4.67.1 in /usr/local/lib/python3.11/dist-packages (from -r requirements.txt (line 9)) (4.67.1)\n",
            "Requirement already satisfied: scipy==1.14.1 in /usr/local/lib/python3.11/dist-packages (from -r requirements.txt (line 10)) (1.14.1)\n",
            "Requirement already satisfied: aiofiles<24.0,>=22.0 in /usr/local/lib/python3.11/dist-packages (from gradio==5.9.1->-r requirements.txt (line 2)) (23.2.1)\n",
            "Requirement already satisfied: anyio<5.0,>=3.0 in /usr/local/lib/python3.11/dist-packages (from gradio==5.9.1->-r requirements.txt (line 2)) (3.7.1)\n",
            "Requirement already satisfied: fastapi<1.0,>=0.115.2 in /usr/local/lib/python3.11/dist-packages (from gradio==5.9.1->-r requirements.txt (line 2)) (0.115.8)\n",
            "Requirement already satisfied: ffmpy in /usr/local/lib/python3.11/dist-packages (from gradio==5.9.1->-r requirements.txt (line 2)) (0.5.0)\n",
            "Requirement already satisfied: gradio-client==1.5.2 in /usr/local/lib/python3.11/dist-packages (from gradio==5.9.1->-r requirements.txt (line 2)) (1.5.2)\n",
            "Requirement already satisfied: httpx>=0.24.1 in /usr/local/lib/python3.11/dist-packages (from gradio==5.9.1->-r requirements.txt (line 2)) (0.28.1)\n",
            "Requirement already satisfied: huggingface-hub>=0.25.1 in /usr/local/lib/python3.11/dist-packages (from gradio==5.9.1->-r requirements.txt (line 2)) (0.28.1)\n",
            "Requirement already satisfied: jinja2<4.0 in /usr/local/lib/python3.11/dist-packages (from gradio==5.9.1->-r requirements.txt (line 2)) (3.1.5)\n",
            "Requirement already satisfied: markupsafe~=2.0 in /usr/local/lib/python3.11/dist-packages (from gradio==5.9.1->-r requirements.txt (line 2)) (2.1.5)\n",
            "Requirement already satisfied: orjson~=3.0 in /usr/local/lib/python3.11/dist-packages (from gradio==5.9.1->-r requirements.txt (line 2)) (3.10.15)\n",
            "Requirement already satisfied: packaging in /usr/local/lib/python3.11/dist-packages (from gradio==5.9.1->-r requirements.txt (line 2)) (24.2)\n",
            "Requirement already satisfied: pandas<3.0,>=1.0 in /usr/local/lib/python3.11/dist-packages (from gradio==5.9.1->-r requirements.txt (line 2)) (2.2.2)\n",
            "Requirement already satisfied: pillow<12.0,>=8.0 in /usr/local/lib/python3.11/dist-packages (from gradio==5.9.1->-r requirements.txt (line 2)) (11.1.0)\n",
            "Requirement already satisfied: pydantic>=2.0 in /usr/local/lib/python3.11/dist-packages (from gradio==5.9.1->-r requirements.txt (line 2)) (2.10.6)\n",
            "Requirement already satisfied: pydub in /usr/local/lib/python3.11/dist-packages (from gradio==5.9.1->-r requirements.txt (line 2)) (0.25.1)\n",
            "Requirement already satisfied: python-multipart>=0.0.18 in /usr/local/lib/python3.11/dist-packages (from gradio==5.9.1->-r requirements.txt (line 2)) (0.0.20)\n",
            "Requirement already satisfied: pyyaml<7.0,>=5.0 in /usr/local/lib/python3.11/dist-packages (from gradio==5.9.1->-r requirements.txt (line 2)) (6.0.2)\n",
            "Requirement already satisfied: ruff>=0.2.2 in /usr/local/lib/python3.11/dist-packages (from gradio==5.9.1->-r requirements.txt (line 2)) (0.9.6)\n",
            "Requirement already satisfied: safehttpx<0.2.0,>=0.1.6 in /usr/local/lib/python3.11/dist-packages (from gradio==5.9.1->-r requirements.txt (line 2)) (0.1.6)\n",
            "Requirement already satisfied: semantic-version~=2.0 in /usr/local/lib/python3.11/dist-packages (from gradio==5.9.1->-r requirements.txt (line 2)) (2.10.0)\n",
            "Requirement already satisfied: starlette<1.0,>=0.40.0 in /usr/local/lib/python3.11/dist-packages (from gradio==5.9.1->-r requirements.txt (line 2)) (0.45.3)\n",
            "Requirement already satisfied: tomlkit<0.14.0,>=0.12.0 in /usr/local/lib/python3.11/dist-packages (from gradio==5.9.1->-r requirements.txt (line 2)) (0.13.2)\n",
            "Requirement already satisfied: typer<1.0,>=0.12 in /usr/local/lib/python3.11/dist-packages (from gradio==5.9.1->-r requirements.txt (line 2)) (0.15.1)\n",
            "Requirement already satisfied: typing-extensions~=4.0 in /usr/local/lib/python3.11/dist-packages (from gradio==5.9.1->-r requirements.txt (line 2)) (4.12.2)\n",
            "Requirement already satisfied: uvicorn>=0.14.0 in /usr/local/lib/python3.11/dist-packages (from gradio==5.9.1->-r requirements.txt (line 2)) (0.34.0)\n",
            "Requirement already satisfied: protobuf>=3.20.2 in /usr/local/lib/python3.11/dist-packages (from onnx==1.17.0->-r requirements.txt (line 5)) (4.25.6)\n",
            "Requirement already satisfied: coloredlogs in /usr/local/lib/python3.11/dist-packages (from onnxruntime==1.20.1->-r requirements.txt (line 6)) (15.0.1)\n",
            "Requirement already satisfied: flatbuffers in /usr/local/lib/python3.11/dist-packages (from onnxruntime==1.20.1->-r requirements.txt (line 6)) (25.1.24)\n",
            "Requirement already satisfied: sympy in /usr/local/lib/python3.11/dist-packages (from onnxruntime==1.20.1->-r requirements.txt (line 6)) (1.13.1)\n",
            "Requirement already satisfied: fsspec in /usr/local/lib/python3.11/dist-packages (from gradio-client==1.5.2->gradio==5.9.1->-r requirements.txt (line 2)) (2024.10.0)\n",
            "Requirement already satisfied: websockets<15.0,>=10.0 in /usr/local/lib/python3.11/dist-packages (from gradio-client==1.5.2->gradio==5.9.1->-r requirements.txt (line 2)) (14.2)\n",
            "Requirement already satisfied: idna>=2.8 in /usr/local/lib/python3.11/dist-packages (from anyio<5.0,>=3.0->gradio==5.9.1->-r requirements.txt (line 2)) (3.10)\n",
            "Requirement already satisfied: sniffio>=1.1 in /usr/local/lib/python3.11/dist-packages (from anyio<5.0,>=3.0->gradio==5.9.1->-r requirements.txt (line 2)) (1.3.1)\n",
            "Requirement already satisfied: certifi in /usr/local/lib/python3.11/dist-packages (from httpx>=0.24.1->gradio==5.9.1->-r requirements.txt (line 2)) (2025.1.31)\n",
            "Requirement already satisfied: httpcore==1.* in /usr/local/lib/python3.11/dist-packages (from httpx>=0.24.1->gradio==5.9.1->-r requirements.txt (line 2)) (1.0.7)\n",
            "Requirement already satisfied: h11<0.15,>=0.13 in /usr/local/lib/python3.11/dist-packages (from httpcore==1.*->httpx>=0.24.1->gradio==5.9.1->-r requirements.txt (line 2)) (0.14.0)\n",
            "Requirement already satisfied: filelock in /usr/local/lib/python3.11/dist-packages (from huggingface-hub>=0.25.1->gradio==5.9.1->-r requirements.txt (line 2)) (3.17.0)\n",
            "Requirement already satisfied: requests in /usr/local/lib/python3.11/dist-packages (from huggingface-hub>=0.25.1->gradio==5.9.1->-r requirements.txt (line 2)) (2.32.3)\n",
            "Requirement already satisfied: python-dateutil>=2.8.2 in /usr/local/lib/python3.11/dist-packages (from pandas<3.0,>=1.0->gradio==5.9.1->-r requirements.txt (line 2)) (2.8.2)\n",
            "Requirement already satisfied: pytz>=2020.1 in /usr/local/lib/python3.11/dist-packages (from pandas<3.0,>=1.0->gradio==5.9.1->-r requirements.txt (line 2)) (2025.1)\n",
            "Requirement already satisfied: tzdata>=2022.7 in /usr/local/lib/python3.11/dist-packages (from pandas<3.0,>=1.0->gradio==5.9.1->-r requirements.txt (line 2)) (2025.1)\n",
            "Requirement already satisfied: annotated-types>=0.6.0 in /usr/local/lib/python3.11/dist-packages (from pydantic>=2.0->gradio==5.9.1->-r requirements.txt (line 2)) (0.7.0)\n",
            "Requirement already satisfied: pydantic-core==2.27.2 in /usr/local/lib/python3.11/dist-packages (from pydantic>=2.0->gradio==5.9.1->-r requirements.txt (line 2)) (2.27.2)\n",
            "Requirement already satisfied: click>=8.0.0 in /usr/local/lib/python3.11/dist-packages (from typer<1.0,>=0.12->gradio==5.9.1->-r requirements.txt (line 2)) (8.1.8)\n",
            "Requirement already satisfied: shellingham>=1.3.0 in /usr/local/lib/python3.11/dist-packages (from typer<1.0,>=0.12->gradio==5.9.1->-r requirements.txt (line 2)) (1.5.4)\n",
            "Requirement already satisfied: rich>=10.11.0 in /usr/local/lib/python3.11/dist-packages (from typer<1.0,>=0.12->gradio==5.9.1->-r requirements.txt (line 2)) (13.9.4)\n",
            "Requirement already satisfied: humanfriendly>=9.1 in /usr/local/lib/python3.11/dist-packages (from coloredlogs->onnxruntime==1.20.1->-r requirements.txt (line 6)) (10.0)\n",
            "Requirement already satisfied: mpmath<1.4,>=1.1.0 in /usr/local/lib/python3.11/dist-packages (from sympy->onnxruntime==1.20.1->-r requirements.txt (line 6)) (1.3.0)\n",
            "Requirement already satisfied: six>=1.5 in /usr/local/lib/python3.11/dist-packages (from python-dateutil>=2.8.2->pandas<3.0,>=1.0->gradio==5.9.1->-r requirements.txt (line 2)) (1.17.0)\n",
            "Requirement already satisfied: markdown-it-py>=2.2.0 in /usr/local/lib/python3.11/dist-packages (from rich>=10.11.0->typer<1.0,>=0.12->gradio==5.9.1->-r requirements.txt (line 2)) (3.0.0)\n",
            "Requirement already satisfied: pygments<3.0.0,>=2.13.0 in /usr/local/lib/python3.11/dist-packages (from rich>=10.11.0->typer<1.0,>=0.12->gradio==5.9.1->-r requirements.txt (line 2)) (2.18.0)\n",
            "Requirement already satisfied: charset-normalizer<4,>=2 in /usr/local/lib/python3.11/dist-packages (from requests->huggingface-hub>=0.25.1->gradio==5.9.1->-r requirements.txt (line 2)) (3.4.1)\n",
            "Requirement already satisfied: urllib3<3,>=1.21.1 in /usr/local/lib/python3.11/dist-packages (from requests->huggingface-hub>=0.25.1->gradio==5.9.1->-r requirements.txt (line 2)) (2.3.0)\n",
            "Requirement already satisfied: mdurl~=0.1 in /usr/local/lib/python3.11/dist-packages (from markdown-it-py>=2.2.0->rich>=10.11.0->typer<1.0,>=0.12->gradio==5.9.1->-r requirements.txt (line 2)) (0.1.2)\n",
            "Requirement already satisfied: onnxruntime-gpu in /usr/local/lib/python3.11/dist-packages (1.20.1)\n",
            "Requirement already satisfied: coloredlogs in /usr/local/lib/python3.11/dist-packages (from onnxruntime-gpu) (15.0.1)\n",
            "Requirement already satisfied: flatbuffers in /usr/local/lib/python3.11/dist-packages (from onnxruntime-gpu) (25.1.24)\n",
            "Requirement already satisfied: numpy>=1.21.6 in /usr/local/lib/python3.11/dist-packages (from onnxruntime-gpu) (2.2.0)\n",
            "Requirement already satisfied: packaging in /usr/local/lib/python3.11/dist-packages (from onnxruntime-gpu) (24.2)\n",
            "Requirement already satisfied: protobuf in /usr/local/lib/python3.11/dist-packages (from onnxruntime-gpu) (4.25.6)\n",
            "Requirement already satisfied: sympy in /usr/local/lib/python3.11/dist-packages (from onnxruntime-gpu) (1.13.1)\n",
            "Requirement already satisfied: humanfriendly>=9.1 in /usr/local/lib/python3.11/dist-packages (from coloredlogs->onnxruntime-gpu) (10.0)\n",
            "Requirement already satisfied: mpmath<1.4,>=1.1.0 in /usr/local/lib/python3.11/dist-packages (from sympy->onnxruntime-gpu) (1.3.0)\n"
          ]
        }
      ],
      "source": [
        "!git clone https://github.com/facefusion/facefusion.git\n",
        "%cd /content/facefusion\n",
        "!pip install -r requirements.txt\n",
        "!pip install onnxruntime-gpu"
      ]
    },
    {
      "cell_type": "code",
      "source": [
        "# Path to the core.py file\n",
        "file_path = '/content/facefusion/facefusion/uis/layouts/default.py'\n",
        "\n",
        "# Read the content of the file\n",
        "with open(file_path, 'r') as file:\n",
        "    content = file.read()\n",
        "\n",
        "# Replace the line with the updated version\n",
        "updated_content = content.replace(\"ui.launch(show_api = False)\", \"ui.launch(show_api = False, share=True, enable_queue=True)\")\n",
        "\n",
        "# Write the updated content back to the file\n",
        "with open(file_path, 'w') as file:\n",
        "    file.write(updated_content)\n"
      ],
      "metadata": {
        "id": "I6psOK4dAJrJ"
      },
      "execution_count": 3,
      "outputs": []
    },
    {
      "cell_type": "code",
      "source": [
        "!python facefusion.py run --open-browser"
      ],
      "metadata": {
        "id": "nBJZm44Tzkxr",
        "colab": {
          "base_uri": "https://localhost:8080/"
        },
        "outputId": "125bacf0-e3cd-406b-b575-58d5be6c99e4"
      },
      "execution_count": null,
      "outputs": [
        {
          "output_type": "stream",
          "name": "stdout",
          "text": [
            "Downloading: 100% 8.00/8.00 [00:00<00:00, 24.5B/s, download_providers=['github', 'huggingface'], file_name=open_nsfw.hash]\n",
            "Downloading: 100% 22.5M/22.5M [00:00<00:00, 40.7MB/s, download_providers=['github', 'huggingface'], file_name=open_nsfw.onnx]\n",
            "Downloading: 100% 8.00/8.00 [00:00<00:00, 23.7B/s, download_providers=['github', 'huggingface'], file_name=fairface.hash]\n",
            "Downloading: 100% 81.2M/81.2M [00:01<00:00, 73.2MB/s, download_providers=['github', 'huggingface'], file_name=fairface.onnx]\n",
            "Downloading: 100% 8.00/8.00 [00:00<00:00, 24.0B/s, download_providers=['github', 'huggingface'], file_name=yoloface_8n.hash]\n",
            "Downloading: 100% 12.1M/12.1M [00:00<00:00, 28.1MB/s, download_providers=['github', 'huggingface'], file_name=yoloface_8n.onnx]\n",
            "Downloading: 100% 8.00/8.00 [00:00<00:00, 23.5B/s, download_providers=['github', 'huggingface'], file_name=fan_68_5.hash]\n",
            "Downloading: 100% 8.00/8.00 [00:00<00:00, 23.2B/s, download_providers=['github', 'huggingface'], file_name=2dfan4.hash]\n",
            "Downloading: 100% 922k/922k [00:00<00:00, 2.45MB/s, download_providers=['github', 'huggingface'], file_name=fan_68_5.onnx]\n",
            "Downloading: 100% 93.4M/93.4M [00:01<00:00, 77.5MB/s, download_providers=['github', 'huggingface'], file_name=2dfan4.onnx]\n",
            "Downloading: 100% 8.00/8.00 [00:00<00:00, 24.6B/s, download_providers=['github', 'huggingface'], file_name=xseg_1.hash]\n",
            "Downloading: 100% 8.00/8.00 [00:00<00:00, 22.9B/s, download_providers=['github', 'huggingface'], file_name=bisenet_resnet_34.hash]\n",
            "Downloading: 100% 67.1M/67.1M [00:00<00:00, 70.7MB/s, download_providers=['github', 'huggingface'], file_name=xseg_1.onnx]\n",
            "Downloading: 100% 89.3M/89.3M [00:01<00:00, 72.1MB/s, download_providers=['github', 'huggingface'], file_name=bisenet_resnet_34.onnx]\n",
            "Downloading: 100% 8.00/8.00 [00:00<00:00, 24.0B/s, download_providers=['github', 'huggingface'], file_name=arcface_w600k_r50.hash]\n",
            "Downloading: 100% 166M/166M [00:01<00:00, 90.3MB/s, download_providers=['github', 'huggingface'], file_name=arcface_w600k_r50.onnx]\n",
            "Downloading: 100% 8.00/8.00 [00:00<00:00, 22.7B/s, download_providers=['github', 'huggingface'], file_name=kim_vocal_2.hash]\n",
            "Downloading: 100% 63.7M/63.7M [00:00<00:00, 69.1MB/s, download_providers=['github', 'huggingface'], file_name=kim_vocal_2.onnx]\n",
            "Downloading: 100% 8.00/8.00 [00:00<00:00, 23.6B/s, download_providers=['github', 'huggingface'], file_name=inswapper_128_fp16.hash]\n",
            "Downloading: 100% 265M/265M [00:02<00:00, 95.7MB/s, download_providers=['github', 'huggingface'], file_name=inswapper_128_fp16.onnx]\n",
            "* Running on local URL:  http://127.0.0.1:7860\n",
            "\n",
            "To create a public link, set `share=True` in `launch()`.\n"
          ]
        }
      ]
    }
  ]
}